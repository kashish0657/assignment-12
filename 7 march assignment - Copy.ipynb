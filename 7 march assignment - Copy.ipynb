{
 "cells": [
  {
   "cell_type": "markdown",
   "id": "609b33bb-9844-4c07-b74c-736eb2520e07",
   "metadata": {},
   "source": [
    "## 7th March Assignment"
   ]
  },
  {
   "cell_type": "code",
   "execution_count": null,
   "id": "50a470dd-3656-40de-8a46-94e7592470a6",
   "metadata": {},
   "outputs": [],
   "source": [
    "1:ans:- Three measures of central tendency is :-\n",
    "            a: Mean\n",
    "            b: Median\n",
    "            c: Mode\n",
    "            "
   ]
  },
  {
   "cell_type": "code",
   "execution_count": null,
   "id": "ac482803-eae8-473b-b99f-41b8f6b01fed",
   "metadata": {},
   "outputs": [],
   "source": [
    "2:ans:- \n",
    "        MEAN:-\n",
    "    Mean , here the airthmetic mean is the most used measures of central tendency.\n",
    "    With both discrete and continuous data set , a mean can be obtained . To obtain the\n",
    "    mean set of numbers , you have to sum up all the numbers and then divide it using the\n",
    "    total number .\n",
    "    \n",
    "        MEDIAN:-\n",
    "    When you arrange given set of numbers from smaller to biggest , the middle number is \n",
    "    said to be the median . Arrange any given series the either ascending or descending order\n",
    "    of the middle value then is termed as the median .\n",
    "    \n",
    "        MODE:-\n",
    "    The most repeated number in a given set of observations is the mode or it can also be said that \n",
    "    the numbers or value which have the highest frequency in a given series of numbers . It is also\n",
    "    known as the mode value .\n",
    "    \n",
    "    \n",
    " They used to measure the central tendency of a dataset :-\n",
    "        The mode is the most frequent value . The median is the middle number in a ordered data\n",
    "    set . The mean is the sum of all values divided by the total number of values .\n",
    "    "
   ]
  },
  {
   "cell_type": "code",
   "execution_count": null,
   "id": "d9a80f15-c92c-40de-a022-b0c45d0c5d9f",
   "metadata": {},
   "outputs": [],
   "source": [
    "3:ans:-\n",
    "        data = [178,177,176,177,178,.2,178,175,179,180,175,178.9,176.2,177,172.5,178,176.5]\n",
    "        import numpy as np\n",
    "        np.mean(data)\n",
    "        \n",
    "        data = [178,177,176,177,178,.2,178,175,179,180,175,178.9,176.2,177,172.5,178,176.5]\n",
    "        import numpy as np\n",
    "        np.median(data)\n",
    "        \n",
    "        data = [178,177,176,177,178,.2,178,175,179,180,175,178.9,176.2,177,172.5,178,176.5]\n",
    "        from scipy import stats\n",
    "        stats.mode(data)\n",
    "        "
   ]
  },
  {
   "cell_type": "code",
   "execution_count": null,
   "id": "64f086a3-2b17-4255-ab0c-8921573d71e0",
   "metadata": {},
   "outputs": [],
   "source": [
    "4:ans:- \n",
    "        import numpy as np\n",
    "        given_data = [178,177,176,177,178,.2,178,175,179,180,175,178.9,176.2,177,172.5,178,176.5]\n",
    "        np.std(given_data)\n",
    "           "
   ]
  },
  {
   "cell_type": "code",
   "execution_count": null,
   "id": "278cd723-f500-43ab-8c32-60d11779c78e",
   "metadata": {},
   "outputs": [],
   "source": [
    "5:ans:- Measures of dispersion describe the spread of data . They includethe range , interquatile range ,\n",
    "        standard deviation and variance .\n",
    "                    The range is given as the smallest and the largest observation . This is the simplest \n",
    "        measure of variability."
   ]
  },
  {
   "cell_type": "code",
   "execution_count": null,
   "id": "648f9bef-6e28-4703-b802-f9eb78b91f34",
   "metadata": {},
   "outputs": [],
   "source": [
    "6:ans:- \n",
    "            Venn Diagram:-\n",
    "    A venn diagram is widely used diagram style that shows the logical relation\n",
    "    between sets , popularized by jhon venn in 1880s . The diagrams are used to teach\n",
    "    elementary set theory , and to illustrate simple set relationships in probability ,\n",
    "    logic , statistics , linguistics , and computer science ."
   ]
  },
  {
   "cell_type": "code",
   "execution_count": null,
   "id": "9a60c7dd-2f85-4e4b-b747-4b9bd09e9fdd",
   "metadata": {},
   "outputs": [],
   "source": [
    "7:ans:- \n",
    "            1:ans:- 2 , 6\n",
    "            2:ans:- 0 , 2 , 3 , 4 , 5 , 6 , 7 , 8 , "
   ]
  },
  {
   "cell_type": "code",
   "execution_count": null,
   "id": "d863e83f-65df-48ab-b7bc-0bf64b2bc034",
   "metadata": {},
   "outputs": [],
   "source": [
    "8:ans:- \n",
    "            Skewness in Data :-\n",
    "    Skewness is a measure of the asymmetry of a distribution . A distribution is asymmetrical when\n",
    "    its left and right side are not mirror images . \n",
    "    \n",
    "    A distribution can have right (or positive) , left (or negative) , or zero skewness .\n",
    "    "
   ]
  },
  {
   "cell_type": "code",
   "execution_count": null,
   "id": "3758b058-b30c-4cd0-a7ac-3744da947f31",
   "metadata": {},
   "outputs": [],
   "source": [
    "9:ans:- \n",
    "                Generally , if the distribution of data is skewed to the left , the mean is less than\n",
    "            the median , which is often less than the mode . If the distribution of data is skewed\n",
    "                to the right , the mode is often less than the median , which is less than the mean .\n",
    "        "
   ]
  },
  {
   "cell_type": "code",
   "execution_count": null,
   "id": "45f350ca-bb88-4464-bb88-1eb56a7ae1a1",
   "metadata": {},
   "outputs": [],
   "source": [
    "10:ans:-\n",
    "\n",
    "        covariance :-\n",
    "    \n",
    "    1:- Covariance is an indicator of the extent towhich 2 random variables are dependent on\n",
    "        each other . A higher number denotes higher dependency .\n",
    "        \n",
    "    2:- The values of covariance lies in the range of positive and negative .\n",
    "    \n",
    "    3:- Its change in scale affects covariance .\n",
    "    \n",
    "    4:- There is no unit free measure .\n",
    "    \n",
    "    \n",
    "        Corelation :-\n",
    "        \n",
    "    1:- Corelation is a statistical measure that indicates how strongly two variables are\n",
    "        related .\n",
    "    \n",
    "    2:- Corelation is limited to values between the range -1 and +1 .\n",
    "    \n",
    "    3:- Its change in scale  does not affect the corelation .\n",
    "    \n",
    "    4:- There is unit free measure .\n",
    "    \n",
    "    "
   ]
  },
  {
   "cell_type": "code",
   "execution_count": null,
   "id": "3f79c015-e748-4b55-ae17-68c5cc9a0a10",
   "metadata": {},
   "outputs": [],
   "source": [
    "11:ans:-\n",
    "            The formula for calculating sample mean x̄ = ( Σ xi ) / n .\n",
    "    \n",
    "    \n",
    "    Example : Find the sample mean of 60, 57, 109, 50.\n",
    "\n",
    "Solution: \n",
    "\n",
    "To find: Sample mean\n",
    "Sum of terms = 60 + 57 + 109 + 50 = 276\n",
    "Number of terms = 4\n",
    "Using sample mean formula,\n",
    "mean = (sum of terms)/(number of terms)\n",
    "mean = 276/4 = 69\n",
    "\n",
    "Answer: The sample mean of 60, 57, 109, 50 is  69.\n",
    "\n"
   ]
  },
  {
   "cell_type": "code",
   "execution_count": null,
   "id": "67f3b56b-2e53-4b97-834b-99a4e5adad1b",
   "metadata": {},
   "outputs": [],
   "source": [
    "12:ans:-  \n",
    "          \n",
    "            Any normal distribution has a graph that is perfectly symmetric about a vertical line through its peak.\n",
    "            Therefore, all measures of central tendency (most commonly, the mean, median, and mode) give the same \n",
    "            answer: the x -value of the peak.\n",
    "            "
   ]
  },
  {
   "cell_type": "code",
   "execution_count": null,
   "id": "178a933a-1d71-41c6-91df-df1808d8eea6",
   "metadata": {},
   "outputs": [],
   "source": [
    "13:ans:- \n",
    "\n",
    "Covariance and correlation are two terms that are opposed and are both used in statistics and regression analysis. \n",
    "Covariance shows you how the two variables differ, whereas correlation shows you how the two variables are related.\n"
   ]
  },
  {
   "cell_type": "code",
   "execution_count": null,
   "id": "2ca9295e-2479-44bc-b5b9-cb9f2bfcb35b",
   "metadata": {},
   "outputs": [],
   "source": [
    "14:ans:-\n",
    "\n",
    "Outliers are numbers in a data set that are vastly larger or smaller than the other values in the set. \n",
    "Mean, median and mode are measures of central tendency. Mean is the only measure of central tendency that\n",
    "is always affected by an outlier.\n",
    "\n",
    "An outlier can affect the mean by being unusually small or unusually large. In the previous example,\n",
    "Bill Gates had an unusually large income, which caused the mean to be misleading. The mean score is 84.6. \n",
    "However, if we remove the “0” score from the dataset, then the mean score becomes 94.\n"
   ]
  }
 ],
 "metadata": {
  "kernelspec": {
   "display_name": "Python 3 (ipykernel)",
   "language": "python",
   "name": "python3"
  },
  "language_info": {
   "codemirror_mode": {
    "name": "ipython",
    "version": 3
   },
   "file_extension": ".py",
   "mimetype": "text/x-python",
   "name": "python",
   "nbconvert_exporter": "python",
   "pygments_lexer": "ipython3",
   "version": "3.10.8"
  }
 },
 "nbformat": 4,
 "nbformat_minor": 5
}
